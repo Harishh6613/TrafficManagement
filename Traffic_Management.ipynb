{
  "nbformat": 4,
  "nbformat_minor": 0,
  "metadata": {
    "colab": {
      "provenance": []
    },
    "kernelspec": {
      "name": "python3",
      "display_name": "Python 3"
    },
    "language_info": {
      "name": "python"
    }
  },
  "cells": [
    {
      "cell_type": "code",
      "source": [
        "import numpy as np\n",
        "import pandas as pd\n",
        "from sklearn.linear_model import LinearRegression\n",
        "from sklearn.model_selection import train_test_split\n",
        "\n",
        "# Step 1: Simulate traffic data for intersections\n",
        "def simulate_traffic_data(num_intersections, num_time_steps):\n",
        "    data = {\n",
        "        'intersection_id': [],\n",
        "        'time_step': [],\n",
        "        'vehicle_count': [],\n",
        "        'average_speed': []\n",
        "    }\n",
        "    for i in range(num_intersections):\n",
        "        for t in range(num_time_steps):\n",
        "            data['intersection_id'].append(i)\n",
        "            data['time_step'].append(t)\n",
        "            data['vehicle_count'].append(np.random.randint(20, 100))  # Simulate vehicle count\n",
        "            data['average_speed'].append(np.random.uniform(10, 40))   # Simulate speed in km/h\n",
        "    return pd.DataFrame(data)\n",
        "\n",
        "# Initialize traffic data simulation\n",
        "num_intersections = 5\n",
        "num_time_steps = 100  # Define simulation duration in time steps\n",
        "traffic_data = simulate_traffic_data(num_intersections, num_time_steps)\n",
        "\n",
        "# Step 2: Analyze traffic patterns using Linear Regression\n",
        "X = traffic_data[['time_step']]\n",
        "y = traffic_data['vehicle_count']\n",
        "\n",
        "# Train-test split\n",
        "X_train, X_test, y_train, y_test = train_test_split(X, y, test_size=0.2, random_state=0)\n",
        "\n",
        "# Train linear regression model\n",
        "model = LinearRegression()\n",
        "model.fit(X_train, y_train)\n",
        "\n",
        "# Step 3: Define Q-learning-based Traffic Signal Agent\n",
        "class TrafficSignalAgent:\n",
        "    def __init__(self, num_states, num_actions, alpha=0.1, gamma=0.9, epsilon=0.2):\n",
        "        self.q_table = np.zeros((num_states, num_actions))\n",
        "        self.alpha = alpha\n",
        "        self.gamma = gamma\n",
        "        self.epsilon = epsilon\n",
        "\n",
        "    def choose_action(self, state):\n",
        "        # Epsilon-greedy choice between exploration and exploitation\n",
        "        if np.random.rand() < self.epsilon:\n",
        "            return np.random.randint(0, self.q_table.shape[1])\n",
        "        else:\n",
        "            return np.argmax(self.q_table[state])\n",
        "\n",
        "    def update_q_value(self, state, action, reward, next_state):\n",
        "        best_next_action = np.argmax(self.q_table[next_state])\n",
        "        td_target = reward + self.gamma * self.q_table[next_state, best_next_action]\n",
        "        td_error = td_target - self.q_table[state, action]\n",
        "        self.q_table[state, action] += self.alpha * td_error\n",
        "\n",
        "# Define states and actions for Q-learning agent\n",
        "num_states = 10  # Discretized traffic density levels\n",
        "num_actions = 2  # Actions: 0 = Keep light as is, 1 = Change light\n",
        "\n",
        "# Initialize Q-learning agent\n",
        "agent = TrafficSignalAgent(num_states, num_actions)\n",
        "\n",
        "# Train the agent through simulated experience\n",
        "for _ in range(1000):  # Training episodes\n",
        "    state = np.random.randint(0, num_states)\n",
        "    action = agent.choose_action(state)\n",
        "    next_state = np.random.randint(0, num_states)\n",
        "    reward = 1 if next_state < state else -1  # Reward for reducing traffic density\n",
        "    agent.update_q_value(state, action, reward, next_state)\n",
        "\n",
        "# Step 4: Real-time traffic signal control based on agent's decision\n",
        "def control_traffic_signal(agent, current_density):\n",
        "    state = int(current_density / 10)  # Convert density to discrete state\n",
        "    action = agent.choose_action(state)\n",
        "    if action == 1:\n",
        "        print(\"Changing traffic light to alleviate congestion.\")\n",
        "    else:\n",
        "        print(\"Keeping current traffic light setting.\")\n",
        "\n",
        "# Example of real-time traffic control\n",
        "current_density = 45  # Simulated real-time traffic density\n",
        "predicted_density = model.predict(pd.DataFrame([[current_density]], columns=[\"time_step\"]))[0]\n",
        "print(f\"Predicted vehicle count at current time: {predicted_density:.2f}\")\n",
        "control_traffic_signal(agent, current_density)\n"
      ],
      "metadata": {
        "colab": {
          "base_uri": "https://localhost:8080/"
        },
        "id": "fdEGBPQsup2D",
        "outputId": "511e3287-462f-416a-9c33-c87a5ba2e544"
      },
      "execution_count": 1,
      "outputs": [
        {
          "output_type": "stream",
          "name": "stdout",
          "text": [
            "Predicted vehicle count at current time: 58.88\n",
            "Keeping current traffic light setting.\n"
          ]
        }
      ]
    }
  ]
}